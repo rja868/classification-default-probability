{
  "cells": [
    {
      "cell_type": "markdown",
      "metadata": {
        "id": "view-in-github",
        "colab_type": "text"
      },
      "source": [
        "<a href=\"https://colab.research.google.com/github/rja868/classification-default-probability/blob/main/default_probability_classification.ipynb\" target=\"_parent\"><img src=\"https://colab.research.google.com/assets/colab-badge.svg\" alt=\"Open In Colab\"/></a>"
      ]
    },
    {
      "cell_type": "markdown",
      "id": "e974b5c4",
      "metadata": {
        "id": "e974b5c4"
      },
      "source": [
        "# Predictive Modeling - Probability of Default\n",
        "Richard Albanese"
      ]
    },
    {
      "cell_type": "code",
      "source": [
        "! pip install scikit-learn==1.2.2"
      ],
      "metadata": {
        "id": "LKd8Ft6y9PQe",
        "outputId": "085bce2f-0456-47f6-86ff-27a3e48ff6d9",
        "colab": {
          "base_uri": "https://localhost:8080/"
        }
      },
      "id": "LKd8Ft6y9PQe",
      "execution_count": 1,
      "outputs": [
        {
          "output_type": "stream",
          "name": "stdout",
          "text": [
            "Requirement already satisfied: scikit-learn==1.2.2 in /usr/local/lib/python3.10/dist-packages (1.2.2)\n",
            "Requirement already satisfied: numpy>=1.17.3 in /usr/local/lib/python3.10/dist-packages (from scikit-learn==1.2.2) (1.26.4)\n",
            "Requirement already satisfied: scipy>=1.3.2 in /usr/local/lib/python3.10/dist-packages (from scikit-learn==1.2.2) (1.13.1)\n",
            "Requirement already satisfied: joblib>=1.1.1 in /usr/local/lib/python3.10/dist-packages (from scikit-learn==1.2.2) (1.4.2)\n",
            "Requirement already satisfied: threadpoolctl>=2.0.0 in /usr/local/lib/python3.10/dist-packages (from scikit-learn==1.2.2) (3.5.0)\n"
          ]
        }
      ]
    },
    {
      "cell_type": "code",
      "source": [
        "#Import necessary libaries\n",
        "import pandas as pd   #pandas import\n",
        "from sklearn.model_selection import train_test_split   #import train_test_split function from sklearn\n",
        "from sklearn.ensemble import RandomForestClassifier   #import RandomForestClassifier from sklearn\n",
        "from xgboost import XGBClassifier   #import XGBClassifier from xgboost\n",
        "from sklearn.metrics import accuracy_score, classification_report, confusion_matrix   #import accuracy_score, classification_report, confusion_matrix from sklearn\n",
        "import os   #imports built-in Python os module (enables file/directory manipulation and other interactions with the operating system)\n",
        "\n",
        "#Load the dataset\n",
        "url = 'https://github.com/Safa1615/Dataset--loan/blob/main/bank-loan.csv?raw=true'  #sets the URL of the dataset we're using\n",
        "data = pd.read_csv(url, nrows=700)  #reads the csv file into the dataset\n",
        "\n",
        "# Save to Excel\n",
        "data.to_excel('dataset.xlsx', index=False)  #saves the dataset to an Excel file\n",
        "current_directory = os.getcwd()  #gets the current working directory where the python script is located\n",
        "file_path = os.path.join(current_directory, 'dataset.xlsx')  #creates a path to the Excel file, useful for handling files/directories across different platforms\n",
        "print(f\"The file is saved at: {file_path}\")  #prints the path to the Excel file\n",
        "\n",
        "#Split the data into features (independent variables) and the target variable (default or not)\n",
        "X = data.drop('default', axis=1)  #creates a new dataframe X and removes the column named 'default'\n",
        "y = data['default']  #creates a new dataframe y using the column named 'default' from 'data' dataframe\n",
        "\n",
        "#Split the dataset into training and testing sets\n",
        "#X contains independent variables, y is the target variable, this function randomly splits the data in training and testing subsets\n",
        "X_train, X_test, y_train, y_test = train_test_split(X, y, test_size=0.2, random_state=42)\n",
        "\n",
        "#Initialize Random Forest classifier\n",
        "classifier_RF = RandomForestClassifier(n_estimators=100, random_state=42)\n",
        "\n",
        "#Train the classifier on the training data\n",
        "classifier_RF.fit(X_train, y_train)\n",
        "\n",
        "#Make prediction on the test data\n",
        "y_pred = classifier_RF.predict(X_test)\n",
        "\n",
        "#Evaluate the model\n",
        "accuracy = accuracy_score(y_test, y_pred)\n",
        "confusion = confusion_matrix(y_test, y_pred)\n",
        "classification_rep = classification_report(y_test, y_pred)\n",
        "\n",
        "#Print the results\n",
        "print(f\"Accuracy: {accuracy: .2f}\")\n",
        "print(\"Confusion Matrix:\")\n",
        "print(confusion)\n",
        "print(\"Classification Report:\")\n",
        "print(classification_rep)"
      ],
      "metadata": {
        "id": "JYfApBXe_BR-",
        "outputId": "8425e7a6-2656-40e8-f712-25cafe7d4e8e",
        "colab": {
          "base_uri": "https://localhost:8080/"
        }
      },
      "id": "JYfApBXe_BR-",
      "execution_count": 16,
      "outputs": [
        {
          "output_type": "stream",
          "name": "stdout",
          "text": [
            "The file is saved at: /content/dataset.xlsx\n",
            "Accuracy:  0.78\n",
            "Confusion Matrix:\n",
            "[[94  8]\n",
            " [23 15]]\n",
            "Classification Report:\n",
            "              precision    recall  f1-score   support\n",
            "\n",
            "           0       0.80      0.92      0.86       102\n",
            "           1       0.65      0.39      0.49        38\n",
            "\n",
            "    accuracy                           0.78       140\n",
            "   macro avg       0.73      0.66      0.68       140\n",
            "weighted avg       0.76      0.78      0.76       140\n",
            "\n"
          ]
        }
      ]
    },
    {
      "cell_type": "code",
      "execution_count": 3,
      "id": "ede24190",
      "metadata": {
        "colab": {
          "base_uri": "https://localhost:8080/"
        },
        "id": "ede24190",
        "outputId": "9de4da7c-57b3-47a6-9d56-7b39b48d1ec0"
      },
      "outputs": [
        {
          "output_type": "stream",
          "name": "stdout",
          "text": [
            "Accuracy:  0.77\n",
            "Confusion Matrix:\n",
            "[[93  9]\n",
            " [23 15]]\n",
            "Classification Report:\n",
            "              precision    recall  f1-score   support\n",
            "\n",
            "           0       0.80      0.91      0.85       102\n",
            "           1       0.62      0.39      0.48        38\n",
            "\n",
            "    accuracy                           0.77       140\n",
            "   macro avg       0.71      0.65      0.67       140\n",
            "weighted avg       0.75      0.77      0.75       140\n",
            "\n"
          ]
        }
      ],
      "source": [
        "#Initialize XGBoost Classifier\n",
        "classifier_XG = XGBClassifier(n_estimators=100, random_state=42)  # Creates an instance of XGBClassifier with 100 trees and random state of 42\n",
        "\n",
        "#Train the classifier on the training data\n",
        "classifier_XG.fit(X_train, y_train)  #'X_train' contains input data for training, 'y_train' contains the true class labels of the training data\n",
        "\n",
        "#Make prediction on the test data\n",
        "y_pred = classifier_XG.predict(X_test)  #y_pred contains predicted values from 'X test\" data using the trained model 'classifier_XG'\n",
        "\n",
        "#Evaluate the model\n",
        "accuracy = accuracy_score(y_test, y_pred) #accuracy is the number of correctly predicted instances divided by the total number of instances\n",
        "confusion = confusion_matrix(y_test, y_pred)  #helps identify where the model is performing well and where it may be making errors\n",
        "classification_rep = classification_report(y_test, y_pred)  #generates a report with the main classification metrics\n",
        "\n",
        "#Print the results\n",
        "print(f\"Accuracy: {accuracy: .2f}\")\n",
        "print(\"Confusion Matrix:\")\n",
        "print(confusion)\n",
        "print(\"Classification Report:\")\n",
        "print(classification_rep) #precision is true positives divided by the sum of true pos and false pos, recall is the ratio of true positives to the total actual positives,\n",
        "#f1-score is useful when you need a balance between precision and recall, #support is number of actual occurences in each class"
      ]
    },
    {
      "cell_type": "markdown",
      "source": [
        "**Data Exploration and Visualization**\n",
        "\n",
        "Below, head() and info() are used to understand the data."
      ],
      "metadata": {
        "id": "DhOfRra8hu1b"
      },
      "id": "DhOfRra8hu1b"
    },
    {
      "cell_type": "code",
      "execution_count": 4,
      "id": "81df070c",
      "metadata": {
        "colab": {
          "base_uri": "https://localhost:8080/",
          "height": 206
        },
        "id": "81df070c",
        "outputId": "69653c03-1bc4-44b2-e2e9-885d120de876"
      },
      "outputs": [
        {
          "output_type": "execute_result",
          "data": {
            "text/plain": [
              "   age  ed  employ  address  income  debtinc   creddebt   othdebt  default\n",
              "0   41   3      17       12     176      9.3  11.359392  5.008608        1\n",
              "1   27   1      10        6      31     17.3   1.362202  4.000798        0\n",
              "2   40   1      15       14      55      5.5   0.856075  2.168925        0\n",
              "3   41   1      15       14     120      2.9   2.658720  0.821280        0\n",
              "4   24   2       2        0      28     17.3   1.787436  3.056564        1"
            ],
            "text/html": [
              "\n",
              "  <div id=\"df-209cf46c-1fb9-47d0-9e84-78e2593dd78f\" class=\"colab-df-container\">\n",
              "    <div>\n",
              "<style scoped>\n",
              "    .dataframe tbody tr th:only-of-type {\n",
              "        vertical-align: middle;\n",
              "    }\n",
              "\n",
              "    .dataframe tbody tr th {\n",
              "        vertical-align: top;\n",
              "    }\n",
              "\n",
              "    .dataframe thead th {\n",
              "        text-align: right;\n",
              "    }\n",
              "</style>\n",
              "<table border=\"1\" class=\"dataframe\">\n",
              "  <thead>\n",
              "    <tr style=\"text-align: right;\">\n",
              "      <th></th>\n",
              "      <th>age</th>\n",
              "      <th>ed</th>\n",
              "      <th>employ</th>\n",
              "      <th>address</th>\n",
              "      <th>income</th>\n",
              "      <th>debtinc</th>\n",
              "      <th>creddebt</th>\n",
              "      <th>othdebt</th>\n",
              "      <th>default</th>\n",
              "    </tr>\n",
              "  </thead>\n",
              "  <tbody>\n",
              "    <tr>\n",
              "      <th>0</th>\n",
              "      <td>41</td>\n",
              "      <td>3</td>\n",
              "      <td>17</td>\n",
              "      <td>12</td>\n",
              "      <td>176</td>\n",
              "      <td>9.3</td>\n",
              "      <td>11.359392</td>\n",
              "      <td>5.008608</td>\n",
              "      <td>1</td>\n",
              "    </tr>\n",
              "    <tr>\n",
              "      <th>1</th>\n",
              "      <td>27</td>\n",
              "      <td>1</td>\n",
              "      <td>10</td>\n",
              "      <td>6</td>\n",
              "      <td>31</td>\n",
              "      <td>17.3</td>\n",
              "      <td>1.362202</td>\n",
              "      <td>4.000798</td>\n",
              "      <td>0</td>\n",
              "    </tr>\n",
              "    <tr>\n",
              "      <th>2</th>\n",
              "      <td>40</td>\n",
              "      <td>1</td>\n",
              "      <td>15</td>\n",
              "      <td>14</td>\n",
              "      <td>55</td>\n",
              "      <td>5.5</td>\n",
              "      <td>0.856075</td>\n",
              "      <td>2.168925</td>\n",
              "      <td>0</td>\n",
              "    </tr>\n",
              "    <tr>\n",
              "      <th>3</th>\n",
              "      <td>41</td>\n",
              "      <td>1</td>\n",
              "      <td>15</td>\n",
              "      <td>14</td>\n",
              "      <td>120</td>\n",
              "      <td>2.9</td>\n",
              "      <td>2.658720</td>\n",
              "      <td>0.821280</td>\n",
              "      <td>0</td>\n",
              "    </tr>\n",
              "    <tr>\n",
              "      <th>4</th>\n",
              "      <td>24</td>\n",
              "      <td>2</td>\n",
              "      <td>2</td>\n",
              "      <td>0</td>\n",
              "      <td>28</td>\n",
              "      <td>17.3</td>\n",
              "      <td>1.787436</td>\n",
              "      <td>3.056564</td>\n",
              "      <td>1</td>\n",
              "    </tr>\n",
              "  </tbody>\n",
              "</table>\n",
              "</div>\n",
              "    <div class=\"colab-df-buttons\">\n",
              "\n",
              "  <div class=\"colab-df-container\">\n",
              "    <button class=\"colab-df-convert\" onclick=\"convertToInteractive('df-209cf46c-1fb9-47d0-9e84-78e2593dd78f')\"\n",
              "            title=\"Convert this dataframe to an interactive table.\"\n",
              "            style=\"display:none;\">\n",
              "\n",
              "  <svg xmlns=\"http://www.w3.org/2000/svg\" height=\"24px\" viewBox=\"0 -960 960 960\">\n",
              "    <path d=\"M120-120v-720h720v720H120Zm60-500h600v-160H180v160Zm220 220h160v-160H400v160Zm0 220h160v-160H400v160ZM180-400h160v-160H180v160Zm440 0h160v-160H620v160ZM180-180h160v-160H180v160Zm440 0h160v-160H620v160Z\"/>\n",
              "  </svg>\n",
              "    </button>\n",
              "\n",
              "  <style>\n",
              "    .colab-df-container {\n",
              "      display:flex;\n",
              "      gap: 12px;\n",
              "    }\n",
              "\n",
              "    .colab-df-convert {\n",
              "      background-color: #E8F0FE;\n",
              "      border: none;\n",
              "      border-radius: 50%;\n",
              "      cursor: pointer;\n",
              "      display: none;\n",
              "      fill: #1967D2;\n",
              "      height: 32px;\n",
              "      padding: 0 0 0 0;\n",
              "      width: 32px;\n",
              "    }\n",
              "\n",
              "    .colab-df-convert:hover {\n",
              "      background-color: #E2EBFA;\n",
              "      box-shadow: 0px 1px 2px rgba(60, 64, 67, 0.3), 0px 1px 3px 1px rgba(60, 64, 67, 0.15);\n",
              "      fill: #174EA6;\n",
              "    }\n",
              "\n",
              "    .colab-df-buttons div {\n",
              "      margin-bottom: 4px;\n",
              "    }\n",
              "\n",
              "    [theme=dark] .colab-df-convert {\n",
              "      background-color: #3B4455;\n",
              "      fill: #D2E3FC;\n",
              "    }\n",
              "\n",
              "    [theme=dark] .colab-df-convert:hover {\n",
              "      background-color: #434B5C;\n",
              "      box-shadow: 0px 1px 3px 1px rgba(0, 0, 0, 0.15);\n",
              "      filter: drop-shadow(0px 1px 2px rgba(0, 0, 0, 0.3));\n",
              "      fill: #FFFFFF;\n",
              "    }\n",
              "  </style>\n",
              "\n",
              "    <script>\n",
              "      const buttonEl =\n",
              "        document.querySelector('#df-209cf46c-1fb9-47d0-9e84-78e2593dd78f button.colab-df-convert');\n",
              "      buttonEl.style.display =\n",
              "        google.colab.kernel.accessAllowed ? 'block' : 'none';\n",
              "\n",
              "      async function convertToInteractive(key) {\n",
              "        const element = document.querySelector('#df-209cf46c-1fb9-47d0-9e84-78e2593dd78f');\n",
              "        const dataTable =\n",
              "          await google.colab.kernel.invokeFunction('convertToInteractive',\n",
              "                                                    [key], {});\n",
              "        if (!dataTable) return;\n",
              "\n",
              "        const docLinkHtml = 'Like what you see? Visit the ' +\n",
              "          '<a target=\"_blank\" href=https://colab.research.google.com/notebooks/data_table.ipynb>data table notebook</a>'\n",
              "          + ' to learn more about interactive tables.';\n",
              "        element.innerHTML = '';\n",
              "        dataTable['output_type'] = 'display_data';\n",
              "        await google.colab.output.renderOutput(dataTable, element);\n",
              "        const docLink = document.createElement('div');\n",
              "        docLink.innerHTML = docLinkHtml;\n",
              "        element.appendChild(docLink);\n",
              "      }\n",
              "    </script>\n",
              "  </div>\n",
              "\n",
              "\n",
              "<div id=\"df-83caa773-2b1b-4438-8c64-a7a825cb8dff\">\n",
              "  <button class=\"colab-df-quickchart\" onclick=\"quickchart('df-83caa773-2b1b-4438-8c64-a7a825cb8dff')\"\n",
              "            title=\"Suggest charts\"\n",
              "            style=\"display:none;\">\n",
              "\n",
              "<svg xmlns=\"http://www.w3.org/2000/svg\" height=\"24px\"viewBox=\"0 0 24 24\"\n",
              "     width=\"24px\">\n",
              "    <g>\n",
              "        <path d=\"M19 3H5c-1.1 0-2 .9-2 2v14c0 1.1.9 2 2 2h14c1.1 0 2-.9 2-2V5c0-1.1-.9-2-2-2zM9 17H7v-7h2v7zm4 0h-2V7h2v10zm4 0h-2v-4h2v4z\"/>\n",
              "    </g>\n",
              "</svg>\n",
              "  </button>\n",
              "\n",
              "<style>\n",
              "  .colab-df-quickchart {\n",
              "      --bg-color: #E8F0FE;\n",
              "      --fill-color: #1967D2;\n",
              "      --hover-bg-color: #E2EBFA;\n",
              "      --hover-fill-color: #174EA6;\n",
              "      --disabled-fill-color: #AAA;\n",
              "      --disabled-bg-color: #DDD;\n",
              "  }\n",
              "\n",
              "  [theme=dark] .colab-df-quickchart {\n",
              "      --bg-color: #3B4455;\n",
              "      --fill-color: #D2E3FC;\n",
              "      --hover-bg-color: #434B5C;\n",
              "      --hover-fill-color: #FFFFFF;\n",
              "      --disabled-bg-color: #3B4455;\n",
              "      --disabled-fill-color: #666;\n",
              "  }\n",
              "\n",
              "  .colab-df-quickchart {\n",
              "    background-color: var(--bg-color);\n",
              "    border: none;\n",
              "    border-radius: 50%;\n",
              "    cursor: pointer;\n",
              "    display: none;\n",
              "    fill: var(--fill-color);\n",
              "    height: 32px;\n",
              "    padding: 0;\n",
              "    width: 32px;\n",
              "  }\n",
              "\n",
              "  .colab-df-quickchart:hover {\n",
              "    background-color: var(--hover-bg-color);\n",
              "    box-shadow: 0 1px 2px rgba(60, 64, 67, 0.3), 0 1px 3px 1px rgba(60, 64, 67, 0.15);\n",
              "    fill: var(--button-hover-fill-color);\n",
              "  }\n",
              "\n",
              "  .colab-df-quickchart-complete:disabled,\n",
              "  .colab-df-quickchart-complete:disabled:hover {\n",
              "    background-color: var(--disabled-bg-color);\n",
              "    fill: var(--disabled-fill-color);\n",
              "    box-shadow: none;\n",
              "  }\n",
              "\n",
              "  .colab-df-spinner {\n",
              "    border: 2px solid var(--fill-color);\n",
              "    border-color: transparent;\n",
              "    border-bottom-color: var(--fill-color);\n",
              "    animation:\n",
              "      spin 1s steps(1) infinite;\n",
              "  }\n",
              "\n",
              "  @keyframes spin {\n",
              "    0% {\n",
              "      border-color: transparent;\n",
              "      border-bottom-color: var(--fill-color);\n",
              "      border-left-color: var(--fill-color);\n",
              "    }\n",
              "    20% {\n",
              "      border-color: transparent;\n",
              "      border-left-color: var(--fill-color);\n",
              "      border-top-color: var(--fill-color);\n",
              "    }\n",
              "    30% {\n",
              "      border-color: transparent;\n",
              "      border-left-color: var(--fill-color);\n",
              "      border-top-color: var(--fill-color);\n",
              "      border-right-color: var(--fill-color);\n",
              "    }\n",
              "    40% {\n",
              "      border-color: transparent;\n",
              "      border-right-color: var(--fill-color);\n",
              "      border-top-color: var(--fill-color);\n",
              "    }\n",
              "    60% {\n",
              "      border-color: transparent;\n",
              "      border-right-color: var(--fill-color);\n",
              "    }\n",
              "    80% {\n",
              "      border-color: transparent;\n",
              "      border-right-color: var(--fill-color);\n",
              "      border-bottom-color: var(--fill-color);\n",
              "    }\n",
              "    90% {\n",
              "      border-color: transparent;\n",
              "      border-bottom-color: var(--fill-color);\n",
              "    }\n",
              "  }\n",
              "</style>\n",
              "\n",
              "  <script>\n",
              "    async function quickchart(key) {\n",
              "      const quickchartButtonEl =\n",
              "        document.querySelector('#' + key + ' button');\n",
              "      quickchartButtonEl.disabled = true;  // To prevent multiple clicks.\n",
              "      quickchartButtonEl.classList.add('colab-df-spinner');\n",
              "      try {\n",
              "        const charts = await google.colab.kernel.invokeFunction(\n",
              "            'suggestCharts', [key], {});\n",
              "      } catch (error) {\n",
              "        console.error('Error during call to suggestCharts:', error);\n",
              "      }\n",
              "      quickchartButtonEl.classList.remove('colab-df-spinner');\n",
              "      quickchartButtonEl.classList.add('colab-df-quickchart-complete');\n",
              "    }\n",
              "    (() => {\n",
              "      let quickchartButtonEl =\n",
              "        document.querySelector('#df-83caa773-2b1b-4438-8c64-a7a825cb8dff button');\n",
              "      quickchartButtonEl.style.display =\n",
              "        google.colab.kernel.accessAllowed ? 'block' : 'none';\n",
              "    })();\n",
              "  </script>\n",
              "</div>\n",
              "\n",
              "    </div>\n",
              "  </div>\n"
            ],
            "application/vnd.google.colaboratory.intrinsic+json": {
              "type": "dataframe",
              "variable_name": "data",
              "summary": "{\n  \"name\": \"data\",\n  \"rows\": 700,\n  \"fields\": [\n    {\n      \"column\": \"age\",\n      \"properties\": {\n        \"dtype\": \"number\",\n        \"std\": 7,\n        \"min\": 20,\n        \"max\": 56,\n        \"num_unique_values\": 37,\n        \"samples\": [\n          26,\n          29,\n          39\n        ],\n        \"semantic_type\": \"\",\n        \"description\": \"\"\n      }\n    },\n    {\n      \"column\": \"ed\",\n      \"properties\": {\n        \"dtype\": \"number\",\n        \"std\": 0,\n        \"min\": 1,\n        \"max\": 5,\n        \"num_unique_values\": 5,\n        \"samples\": [\n          1,\n          5,\n          2\n        ],\n        \"semantic_type\": \"\",\n        \"description\": \"\"\n      }\n    },\n    {\n      \"column\": \"employ\",\n      \"properties\": {\n        \"dtype\": \"number\",\n        \"std\": 6,\n        \"min\": 0,\n        \"max\": 31,\n        \"num_unique_values\": 32,\n        \"samples\": [\n          31,\n          23,\n          26\n        ],\n        \"semantic_type\": \"\",\n        \"description\": \"\"\n      }\n    },\n    {\n      \"column\": \"address\",\n      \"properties\": {\n        \"dtype\": \"number\",\n        \"std\": 6,\n        \"min\": 0,\n        \"max\": 34,\n        \"num_unique_values\": 31,\n        \"samples\": [\n          24,\n          26,\n          16\n        ],\n        \"semantic_type\": \"\",\n        \"description\": \"\"\n      }\n    },\n    {\n      \"column\": \"income\",\n      \"properties\": {\n        \"dtype\": \"number\",\n        \"std\": 36,\n        \"min\": 14,\n        \"max\": 446,\n        \"num_unique_values\": 114,\n        \"samples\": [\n          89,\n          28,\n          75\n        ],\n        \"semantic_type\": \"\",\n        \"description\": \"\"\n      }\n    },\n    {\n      \"column\": \"debtinc\",\n      \"properties\": {\n        \"dtype\": \"number\",\n        \"std\": 6.827233584260973,\n        \"min\": 0.4,\n        \"max\": 41.3,\n        \"num_unique_values\": 231,\n        \"samples\": [\n          36.6,\n          0.6,\n          1.7\n        ],\n        \"semantic_type\": \"\",\n        \"description\": \"\"\n      }\n    },\n    {\n      \"column\": \"creddebt\",\n      \"properties\": {\n        \"dtype\": \"number\",\n        \"std\": 2.117196987104761,\n        \"min\": 0.011696,\n        \"max\": 20.56131,\n        \"num_unique_values\": 695,\n        \"samples\": [\n          4.00384,\n          0.04248,\n          1.142856\n        ],\n        \"semantic_type\": \"\",\n        \"description\": \"\"\n      }\n    },\n    {\n      \"column\": \"othdebt\",\n      \"properties\": {\n        \"dtype\": \"number\",\n        \"std\": 3.287554529738147,\n        \"min\": 0.045584,\n        \"max\": 27.0336,\n        \"num_unique_values\": 699,\n        \"samples\": [\n          0.85995,\n          0.90783,\n          1.481064\n        ],\n        \"semantic_type\": \"\",\n        \"description\": \"\"\n      }\n    },\n    {\n      \"column\": \"default\",\n      \"properties\": {\n        \"dtype\": \"number\",\n        \"std\": 0,\n        \"min\": 0,\n        \"max\": 1,\n        \"num_unique_values\": 2,\n        \"samples\": [\n          0,\n          1\n        ],\n        \"semantic_type\": \"\",\n        \"description\": \"\"\n      }\n    }\n  ]\n}"
            }
          },
          "metadata": {},
          "execution_count": 4
        }
      ],
      "source": [
        "data.head()"
      ]
    },
    {
      "cell_type": "code",
      "execution_count": 5,
      "id": "ae2c2531",
      "metadata": {
        "colab": {
          "base_uri": "https://localhost:8080/"
        },
        "id": "ae2c2531",
        "outputId": "1ea37910-9afb-42ab-d63e-013418ca2ec6"
      },
      "outputs": [
        {
          "output_type": "stream",
          "name": "stdout",
          "text": [
            "<class 'pandas.core.frame.DataFrame'>\n",
            "RangeIndex: 700 entries, 0 to 699\n",
            "Data columns (total 9 columns):\n",
            " #   Column    Non-Null Count  Dtype  \n",
            "---  ------    --------------  -----  \n",
            " 0   age       700 non-null    int64  \n",
            " 1   ed        700 non-null    int64  \n",
            " 2   employ    700 non-null    int64  \n",
            " 3   address   700 non-null    int64  \n",
            " 4   income    700 non-null    int64  \n",
            " 5   debtinc   700 non-null    float64\n",
            " 6   creddebt  700 non-null    float64\n",
            " 7   othdebt   700 non-null    float64\n",
            " 8   default   700 non-null    int64  \n",
            "dtypes: float64(3), int64(6)\n",
            "memory usage: 49.3 KB\n"
          ]
        }
      ],
      "source": [
        "data.info()"
      ]
    },
    {
      "cell_type": "markdown",
      "source": [
        "The following is a simple bar chart showing the number of cases resulting in a no default versus the number resulting in default.  The data has many more cases resulting in no default compared to default.**bold text**"
      ],
      "metadata": {
        "id": "__v8ERcI5rM3"
      },
      "id": "__v8ERcI5rM3"
    },
    {
      "cell_type": "code",
      "source": [
        "import matplotlib.pyplot as plt\n",
        "\n",
        "# Count the occurrences of 'default' values (0 and 1)\n",
        "default_counts = data['default'].value_counts()\n",
        "plt.figure(figsize=(6, 6))\n",
        "plt.bar(default_counts.index, default_counts.values, color=['lightgreen', 'lightcoral'])\n",
        "plt.xlabel(\"Default Status\")\n",
        "plt.ylabel(\"Quantity of Cases\")\n",
        "plt.title(\"Default vs. No Default\")\n",
        "plt.xticks(default_counts.index, ['No Default (0)', 'Default (1)'])\n",
        "plt.show()"
      ],
      "metadata": {
        "colab": {
          "base_uri": "https://localhost:8080/",
          "height": 564
        },
        "id": "Kst16GqS4vaL",
        "outputId": "829b1d7e-4446-4712-ace9-f56d4a948908"
      },
      "id": "Kst16GqS4vaL",
      "execution_count": 6,
      "outputs": [
        {
          "output_type": "display_data",
          "data": {
            "text/plain": [
              "<Figure size 600x600 with 1 Axes>"
            ],
            "image/png": "[encoded data removed]"
          },
          "metadata": {}
        }
      ]
    },
    {
      "cell_type": "markdown",
      "source": [
        "The following histogram shows distribution of debt to income (debtinc column) in 9 bins.  There a many more cases with debtinc ratios below 20 than above 20."
      ],
      "metadata": {
        "id": "bmjUOJWd6FFu"
      },
      "id": "bmjUOJWd6FFu"
    },
    {
      "cell_type": "code",
      "source": [
        "custom_bins = [0, 5, 10, 15, 20, 25, 30, 35, 40, 45]  # Custom bins for the histogram\n",
        "plt.figure(figsize=(9, 5))\n",
        "plt.hist(data['debtinc'], bins=custom_bins, edgecolor='black')\n",
        "plt.xlabel('Debt-to-Income Ratio')\n",
        "plt.ylabel('Frequency')\n",
        "plt.title('Distribution of Debt-to-Income Ratio')\n",
        "plt.xticks(custom_bins)\n",
        "plt.show()"
      ],
      "metadata": {
        "colab": {
          "base_uri": "https://localhost:8080/",
          "height": 487
        },
        "id": "B-M36fo08W0M",
        "outputId": "f4b860c7-15f0-443d-af4f-abe1fe4fcf89"
      },
      "id": "B-M36fo08W0M",
      "execution_count": 7,
      "outputs": [
        {
          "output_type": "display_data",
          "data": {
            "text/plain": [
              "<Figure size 900x500 with 1 Axes>"
            ],
            "image/png": "[encoded data removed]"
          },
          "metadata": {}
        }
      ]
    },
    {
      "cell_type": "markdown",
      "source": [
        "**Data Exploration**\n",
        "\n",
        "The following code explores relationships within the data.  Based on the age feature alone, younger people appear to have a greater likelihood of default.  Higher 'debtinc' appear to significantly increase the likelihood of default.  The 'debtinc' feature might heavily influence credit risk prediction and play an important part in the model."
      ],
      "metadata": {
        "id": "Lm_sW04X7Kdb"
      },
      "id": "Lm_sW04X7Kdb"
    },
    {
      "cell_type": "code",
      "source": [
        "average_age_no_default = data[data['default'] == 0]['age'].mean()\n",
        "average_age_default = data[data['default'] == 1]['age'].mean()\n",
        "\n",
        "print(f\"Average age for no default (0): {average_age_no_default}\")\n",
        "print(f\"Average age for default (1): {average_age_default}\")"
      ],
      "metadata": {
        "colab": {
          "base_uri": "https://localhost:8080/"
        },
        "id": "ZkT_tOdj5nQ_",
        "outputId": "71233848-9391-4c53-e110-2cfc87159b85"
      },
      "id": "ZkT_tOdj5nQ_",
      "execution_count": 8,
      "outputs": [
        {
          "output_type": "stream",
          "name": "stdout",
          "text": [
            "Average age for no default (0): 35.51450676982592\n",
            "Average age for default (1): 33.01092896174863\n"
          ]
        }
      ]
    },
    {
      "cell_type": "code",
      "source": [
        "average_debtinc_no_default = data[data['default'] == 0]['debtinc'].mean()\n",
        "average_debtinc_default = data[data['default'] == 1]['debtinc'].mean()\n",
        "\n",
        "print(f\"Average debtinc for no default (0): {average_debtinc_no_default}\")\n",
        "print(f\"Average debtinc for default (1): {average_debtinc_default}\")\n"
      ],
      "metadata": {
        "colab": {
          "base_uri": "https://localhost:8080/"
        },
        "id": "ohOQY6Vp7ueX",
        "outputId": "af09f968-6b9f-4830-82b0-04dfcb64f0b9"
      },
      "id": "ohOQY6Vp7ueX",
      "execution_count": 9,
      "outputs": [
        {
          "output_type": "stream",
          "name": "stdout",
          "text": [
            "Average debtinc for no default (0): 8.679303675048358\n",
            "Average debtinc for default (1): 14.727868852459016\n"
          ]
        }
      ]
    },
    {
      "cell_type": "markdown",
      "source": [
        "**Missing Values**\n",
        "\n",
        "The following code checks for missing values in the data.  There are none."
      ],
      "metadata": {
        "id": "_9s2V-hFAdIA"
      },
      "id": "_9s2V-hFAdIA"
    },
    {
      "cell_type": "code",
      "source": [
        "missing_values = data.isnull().sum()\n",
        "print(missing_values)\n",
        "print(\"Total missing values:\", missing_values.sum())\n"
      ],
      "metadata": {
        "colab": {
          "base_uri": "https://localhost:8080/"
        },
        "id": "lKoqW0q2_--B",
        "outputId": "7b425577-4069-41e2-de9b-3d904d998e97"
      },
      "id": "lKoqW0q2_--B",
      "execution_count": 10,
      "outputs": [
        {
          "output_type": "stream",
          "name": "stdout",
          "text": [
            "age         0\n",
            "ed          0\n",
            "employ      0\n",
            "address     0\n",
            "income      0\n",
            "debtinc     0\n",
            "creddebt    0\n",
            "othdebt     0\n",
            "default     0\n",
            "dtype: int64\n",
            "Total missing values: 0\n"
          ]
        }
      ]
    },
    {
      "cell_type": "markdown",
      "source": [
        "**Data Scaling**\n",
        "\n",
        "The only categorical variable in the data is default (0 or 1).  It is already encoded.\n",
        "\n",
        "However, it could be beneficial to scale our numerical feature data.  The code below creates X_train_scaled which is the scaled version of the training data used above.  X_test_scaled is the scaled version of the testing data used above.  Using fit_transform on the training data avoids data leakage because the stats are computed only using the training data.  For the testing data, transform uses the same stats from the training data rather than recomputing the stats using the test data."
      ],
      "metadata": {
        "id": "8oEsZ_OtBbj9"
      },
      "id": "8oEsZ_OtBbj9"
    },
    {
      "cell_type": "code",
      "source": [
        "from sklearn.preprocessing import StandardScaler\n",
        "\n",
        "scaler = StandardScaler()  # Initialize StandardScaler\n",
        "X_train_scaled = scaler.fit_transform(X_train)  # Fit and transform the training data\n",
        "X_test_scaled = scaler.transform(X_test)  # Transform the testing data (using the same scaler fitted on training data)\n",
        "\n",
        "# Convert the NumPy array back to a DataFrame with the same columns as the original X_train (so we can use methods like head() to see the transformed data)\n",
        "X_train_scaled = pd.DataFrame(X_train_scaled, columns=X_train.columns, index=X_train.index)\n",
        "X_test_scaled = pd.DataFrame(X_test_scaled, columns=X_test.columns, index=X_test.index)\n"
      ],
      "metadata": {
        "id": "K2e025uFGC2W"
      },
      "id": "K2e025uFGC2W",
      "execution_count": 17,
      "outputs": []
    },
    {
      "cell_type": "code",
      "source": [
        "X_train_scaled.head()"
      ],
      "metadata": {
        "colab": {
          "base_uri": "https://localhost:8080/",
          "height": 206
        },
        "id": "J95GtqunK6Nz",
        "outputId": "e4897e57-e962-474e-9caa-c2b0069cbdec"
      },
      "id": "J95GtqunK6Nz",
      "execution_count": 18,
      "outputs": [
        {
          "output_type": "execute_result",
          "data": {
            "text/plain": [
              "          age        ed    employ   address    income   debtinc  creddebt  \\\n",
              "82   0.264833 -0.786106 -0.198909 -0.782859 -0.365569  1.359338  0.586868   \n",
              "51   1.374358 -0.786106 -1.115692  0.510359 -0.688341  0.539773 -0.358670   \n",
              "220 -0.844692 -0.786106  0.412279 -0.351786 -0.580750 -1.157897 -0.710318   \n",
              "669  0.141553  1.325257  0.259482 -0.639168 -0.069694  0.393423 -0.282396   \n",
              "545  1.004517  0.269576  0.259482  2.234650 -0.231080 -0.265156 -0.425299   \n",
              "\n",
              "      othdebt  \n",
              "82   0.164042  \n",
              "51  -0.321878  \n",
              "220 -0.788689  \n",
              "669  0.487168  \n",
              "545 -0.175258  "
            ],
            "text/html": [
              "\n",
              "  <div id=\"df-0a0195f6-2f32-4deb-9843-66307ceb6090\" class=\"colab-df-container\">\n",
              "    <div>\n",
              "<style scoped>\n",
              "    .dataframe tbody tr th:only-of-type {\n",
              "        vertical-align: middle;\n",
              "    }\n",
              "\n",
              "    .dataframe tbody tr th {\n",
              "        vertical-align: top;\n",
              "    }\n",
              "\n",
              "    .dataframe thead th {\n",
              "        text-align: right;\n",
              "    }\n",
              "</style>\n",
              "<table border=\"1\" class=\"dataframe\">\n",
              "  <thead>\n",
              "    <tr style=\"text-align: right;\">\n",
              "      <th></th>\n",
              "      <th>age</th>\n",
              "      <th>ed</th>\n",
              "      <th>employ</th>\n",
              "      <th>address</th>\n",
              "      <th>income</th>\n",
              "      <th>debtinc</th>\n",
              "      <th>creddebt</th>\n",
              "      <th>othdebt</th>\n",
              "    </tr>\n",
              "  </thead>\n",
              "  <tbody>\n",
              "    <tr>\n",
              "      <th>82</th>\n",
              "      <td>0.264833</td>\n",
              "      <td>-0.786106</td>\n",
              "      <td>-0.198909</td>\n",
              "      <td>-0.782859</td>\n",
              "      <td>-0.365569</td>\n",
              "      <td>1.359338</td>\n",
              "      <td>0.586868</td>\n",
              "      <td>0.164042</td>\n",
              "    </tr>\n",
              "    <tr>\n",
              "      <th>51</th>\n",
              "      <td>1.374358</td>\n",
              "      <td>-0.786106</td>\n",
              "      <td>-1.115692</td>\n",
              "      <td>0.510359</td>\n",
              "      <td>-0.688341</td>\n",
              "      <td>0.539773</td>\n",
              "      <td>-0.358670</td>\n",
              "      <td>-0.321878</td>\n",
              "    </tr>\n",
              "    <tr>\n",
              "      <th>220</th>\n",
              "      <td>-0.844692</td>\n",
              "      <td>-0.786106</td>\n",
              "      <td>0.412279</td>\n",
              "      <td>-0.351786</td>\n",
              "      <td>-0.580750</td>\n",
              "      <td>-1.157897</td>\n",
              "      <td>-0.710318</td>\n",
              "      <td>-0.788689</td>\n",
              "    </tr>\n",
              "    <tr>\n",
              "      <th>669</th>\n",
              "      <td>0.141553</td>\n",
              "      <td>1.325257</td>\n",
              "      <td>0.259482</td>\n",
              "      <td>-0.639168</td>\n",
              "      <td>-0.069694</td>\n",
              "      <td>0.393423</td>\n",
              "      <td>-0.282396</td>\n",
              "      <td>0.487168</td>\n",
              "    </tr>\n",
              "    <tr>\n",
              "      <th>545</th>\n",
              "      <td>1.004517</td>\n",
              "      <td>0.269576</td>\n",
              "      <td>0.259482</td>\n",
              "      <td>2.234650</td>\n",
              "      <td>-0.231080</td>\n",
              "      <td>-0.265156</td>\n",
              "      <td>-0.425299</td>\n",
              "      <td>-0.175258</td>\n",
              "    </tr>\n",
              "  </tbody>\n",
              "</table>\n",
              "</div>\n",
              "    <div class=\"colab-df-buttons\">\n",
              "\n",
              "  <div class=\"colab-df-container\">\n",
              "    <button class=\"colab-df-convert\" onclick=\"convertToInteractive('df-0a0195f6-2f32-4deb-9843-66307ceb6090')\"\n",
              "            title=\"Convert this dataframe to an interactive table.\"\n",
              "            style=\"display:none;\">\n",
              "\n",
              "  <svg xmlns=\"http://www.w3.org/2000/svg\" height=\"24px\" viewBox=\"0 -960 960 960\">\n",
              "    <path d=\"M120-120v-720h720v720H120Zm60-500h600v-160H180v160Zm220 220h160v-160H400v160Zm0 220h160v-160H400v160ZM180-400h160v-160H180v160Zm440 0h160v-160H620v160ZM180-180h160v-160H180v160Zm440 0h160v-160H620v160Z\"/>\n",
              "  </svg>\n",
              "    </button>\n",
              "\n",
              "  <style>\n",
              "    .colab-df-container {\n",
              "      display:flex;\n",
              "      gap: 12px;\n",
              "    }\n",
              "\n",
              "    .colab-df-convert {\n",
              "      background-color: #E8F0FE;\n",
              "      border: none;\n",
              "      border-radius: 50%;\n",
              "      cursor: pointer;\n",
              "      display: none;\n",
              "      fill: #1967D2;\n",
              "      height: 32px;\n",
              "      padding: 0 0 0 0;\n",
              "      width: 32px;\n",
              "    }\n",
              "\n",
              "    .colab-df-convert:hover {\n",
              "      background-color: #E2EBFA;\n",
              "      box-shadow: 0px 1px 2px rgba(60, 64, 67, 0.3), 0px 1px 3px 1px rgba(60, 64, 67, 0.15);\n",
              "      fill: #174EA6;\n",
              "    }\n",
              "\n",
              "    .colab-df-buttons div {\n",
              "      margin-bottom: 4px;\n",
              "    }\n",
              "\n",
              "    [theme=dark] .colab-df-convert {\n",
              "      background-color: #3B4455;\n",
              "      fill: #D2E3FC;\n",
              "    }\n",
              "\n",
              "    [theme=dark] .colab-df-convert:hover {\n",
              "      background-color: #434B5C;\n",
              "      box-shadow: 0px 1px 3px 1px rgba(0, 0, 0, 0.15);\n",
              "      filter: drop-shadow(0px 1px 2px rgba(0, 0, 0, 0.3));\n",
              "      fill: #FFFFFF;\n",
              "    }\n",
              "  </style>\n",
              "\n",
              "    <script>\n",
              "      const buttonEl =\n",
              "        document.querySelector('#df-0a0195f6-2f32-4deb-9843-66307ceb6090 button.colab-df-convert');\n",
              "      buttonEl.style.display =\n",
              "        google.colab.kernel.accessAllowed ? 'block' : 'none';\n",
              "\n",
              "      async function convertToInteractive(key) {\n",
              "        const element = document.querySelector('#df-0a0195f6-2f32-4deb-9843-66307ceb6090');\n",
              "        const dataTable =\n",
              "          await google.colab.kernel.invokeFunction('convertToInteractive',\n",
              "                                                    [key], {});\n",
              "        if (!dataTable) return;\n",
              "\n",
              "        const docLinkHtml = 'Like what you see? Visit the ' +\n",
              "          '<a target=\"_blank\" href=https://colab.research.google.com/notebooks/data_table.ipynb>data table notebook</a>'\n",
              "          + ' to learn more about interactive tables.';\n",
              "        element.innerHTML = '';\n",
              "        dataTable['output_type'] = 'display_data';\n",
              "        await google.colab.output.renderOutput(dataTable, element);\n",
              "        const docLink = document.createElement('div');\n",
              "        docLink.innerHTML = docLinkHtml;\n",
              "        element.appendChild(docLink);\n",
              "      }\n",
              "    </script>\n",
              "  </div>\n",
              "\n",
              "\n",
              "<div id=\"df-7a538c0d-e940-4029-99eb-e8e2d9a5f8bb\">\n",
              "  <button class=\"colab-df-quickchart\" onclick=\"quickchart('df-7a538c0d-e940-4029-99eb-e8e2d9a5f8bb')\"\n",
              "            title=\"Suggest charts\"\n",
              "            style=\"display:none;\">\n",
              "\n",
              "<svg xmlns=\"http://www.w3.org/2000/svg\" height=\"24px\"viewBox=\"0 0 24 24\"\n",
              "     width=\"24px\">\n",
              "    <g>\n",
              "        <path d=\"M19 3H5c-1.1 0-2 .9-2 2v14c0 1.1.9 2 2 2h14c1.1 0 2-.9 2-2V5c0-1.1-.9-2-2-2zM9 17H7v-7h2v7zm4 0h-2V7h2v10zm4 0h-2v-4h2v4z\"/>\n",
              "    </g>\n",
              "</svg>\n",
              "  </button>\n",
              "\n",
              "<style>\n",
              "  .colab-df-quickchart {\n",
              "      --bg-color: #E8F0FE;\n",
              "      --fill-color: #1967D2;\n",
              "      --hover-bg-color: #E2EBFA;\n",
              "      --hover-fill-color: #174EA6;\n",
              "      --disabled-fill-color: #AAA;\n",
              "      --disabled-bg-color: #DDD;\n",
              "  }\n",
              "\n",
              "  [theme=dark] .colab-df-quickchart {\n",
              "      --bg-color: #3B4455;\n",
              "      --fill-color: #D2E3FC;\n",
              "      --hover-bg-color: #434B5C;\n",
              "      --hover-fill-color: #FFFFFF;\n",
              "      --disabled-bg-color: #3B4455;\n",
              "      --disabled-fill-color: #666;\n",
              "  }\n",
              "\n",
              "  .colab-df-quickchart {\n",
              "    background-color: var(--bg-color);\n",
              "    border: none;\n",
              "    border-radius: 50%;\n",
              "    cursor: pointer;\n",
              "    display: none;\n",
              "    fill: var(--fill-color);\n",
              "    height: 32px;\n",
              "    padding: 0;\n",
              "    width: 32px;\n",
              "  }\n",
              "\n",
              "  .colab-df-quickchart:hover {\n",
              "    background-color: var(--hover-bg-color);\n",
              "    box-shadow: 0 1px 2px rgba(60, 64, 67, 0.3), 0 1px 3px 1px rgba(60, 64, 67, 0.15);\n",
              "    fill: var(--button-hover-fill-color);\n",
              "  }\n",
              "\n",
              "  .colab-df-quickchart-complete:disabled,\n",
              "  .colab-df-quickchart-complete:disabled:hover {\n",
              "    background-color: var(--disabled-bg-color);\n",
              "    fill: var(--disabled-fill-color);\n",
              "    box-shadow: none;\n",
              "  }\n",
              "\n",
              "  .colab-df-spinner {\n",
              "    border: 2px solid var(--fill-color);\n",
              "    border-color: transparent;\n",
              "    border-bottom-color: var(--fill-color);\n",
              "    animation:\n",
              "      spin 1s steps(1) infinite;\n",
              "  }\n",
              "\n",
              "  @keyframes spin {\n",
              "    0% {\n",
              "      border-color: transparent;\n",
              "      border-bottom-color: var(--fill-color);\n",
              "      border-left-color: var(--fill-color);\n",
              "    }\n",
              "    20% {\n",
              "      border-color: transparent;\n",
              "      border-left-color: var(--fill-color);\n",
              "      border-top-color: var(--fill-color);\n",
              "    }\n",
              "    30% {\n",
              "      border-color: transparent;\n",
              "      border-left-color: var(--fill-color);\n",
              "      border-top-color: var(--fill-color);\n",
              "      border-right-color: var(--fill-color);\n",
              "    }\n",
              "    40% {\n",
              "      border-color: transparent;\n",
              "      border-right-color: var(--fill-color);\n",
              "      border-top-color: var(--fill-color);\n",
              "    }\n",
              "    60% {\n",
              "      border-color: transparent;\n",
              "      border-right-color: var(--fill-color);\n",
              "    }\n",
              "    80% {\n",
              "      border-color: transparent;\n",
              "      border-right-color: var(--fill-color);\n",
              "      border-bottom-color: var(--fill-color);\n",
              "    }\n",
              "    90% {\n",
              "      border-color: transparent;\n",
              "      border-bottom-color: var(--fill-color);\n",
              "    }\n",
              "  }\n",
              "</style>\n",
              "\n",
              "  <script>\n",
              "    async function quickchart(key) {\n",
              "      const quickchartButtonEl =\n",
              "        document.querySelector('#' + key + ' button');\n",
              "      quickchartButtonEl.disabled = true;  // To prevent multiple clicks.\n",
              "      quickchartButtonEl.classList.add('colab-df-spinner');\n",
              "      try {\n",
              "        const charts = await google.colab.kernel.invokeFunction(\n",
              "            'suggestCharts', [key], {});\n",
              "      } catch (error) {\n",
              "        console.error('Error during call to suggestCharts:', error);\n",
              "      }\n",
              "      quickchartButtonEl.classList.remove('colab-df-spinner');\n",
              "      quickchartButtonEl.classList.add('colab-df-quickchart-complete');\n",
              "    }\n",
              "    (() => {\n",
              "      let quickchartButtonEl =\n",
              "        document.querySelector('#df-7a538c0d-e940-4029-99eb-e8e2d9a5f8bb button');\n",
              "      quickchartButtonEl.style.display =\n",
              "        google.colab.kernel.accessAllowed ? 'block' : 'none';\n",
              "    })();\n",
              "  </script>\n",
              "</div>\n",
              "\n",
              "    </div>\n",
              "  </div>\n"
            ],
            "application/vnd.google.colaboratory.intrinsic+json": {
              "type": "dataframe",
              "variable_name": "X_train_scaled",
              "summary": "{\n  \"name\": \"X_train_scaled\",\n  \"rows\": 560,\n  \"fields\": [\n    {\n      \"column\": \"age\",\n      \"properties\": {\n        \"dtype\": \"number\",\n        \"std\": 1.000894054715909,\n        \"min\": -1.830936992454077,\n        \"max\": 2.6071644585347653,\n        \"num_unique_values\": 37,\n        \"samples\": [\n          -0.9679728214284687,\n          1.2510779040659523,\n          1.00451671234435\n        ],\n        \"semantic_type\": \"\",\n        \"description\": \"\"\n      }\n    },\n    {\n      \"column\": \"ed\",\n      \"properties\": {\n        \"dtype\": \"number\",\n        \"std\": 1.000894054715911,\n        \"min\": -0.7861057148710537,\n        \"max\": 3.4366204273619445,\n        \"num_unique_values\": 5,\n        \"samples\": [\n          1.3252573562454455,\n          3.4366204273619445,\n          0.2695758206871958\n        ],\n        \"semantic_type\": \"\",\n        \"description\": \"\"\n      }\n    },\n    {\n      \"column\": \"employ\",\n      \"properties\": {\n        \"dtype\": \"number\",\n        \"std\": 1.0008940547159078,\n        \"min\": -1.268488791706627,\n        \"max\": 3.4682213446726045,\n        \"num_unique_values\": 29,\n        \"samples\": [\n          3.3154242434990806,\n          -1.268488791706627,\n          1.1762648270697504\n        ],\n        \"semantic_type\": \"\",\n        \"description\": \"\"\n      }\n    },\n    {\n      \"column\": \"address\",\n      \"properties\": {\n        \"dtype\": \"number\",\n        \"std\": 1.000894054715909,\n        \"min\": -1.2139312454792668,\n        \"max\": 3.6715582734227072,\n        \"num_unique_values\": 31,\n        \"samples\": [\n          2.6657221960017123,\n          -0.9265495090732683,\n          0.9414317775657217\n        ],\n        \"semantic_type\": \"\",\n        \"description\": \"\"\n      }\n    },\n    {\n      \"column\": \"income\",\n      \"properties\": {\n        \"dtype\": \"number\",\n        \"std\": 1.0008940547159095,\n        \"min\": -0.8497274597238881,\n        \"max\": 10.770083012064195,\n        \"num_unique_values\": 108,\n        \"samples\": [\n          0.656544268100493,\n          2.6469747655827107,\n          -0.23108014293887438\n        ],\n        \"semantic_type\": \"\",\n        \"description\": \"\"\n      }\n    },\n    {\n      \"column\": \"debtinc\",\n      \"properties\": {\n        \"dtype\": \"number\",\n        \"std\": 1.0008940547159093,\n        \"min\": -1.4505986119155125,\n        \"max\": 4.535152587470661,\n        \"num_unique_values\": 216,\n        \"samples\": [\n          2.208173514848652,\n          2.178903337834539,\n          0.6129488675794764\n        ],\n        \"semantic_type\": \"\",\n        \"description\": \"\"\n      }\n    },\n    {\n      \"column\": \"creddebt\",\n      \"properties\": {\n        \"dtype\": \"number\",\n        \"std\": 1.0008940547159089,\n        \"min\": -0.7581219191349639,\n        \"max\": 7.265833429339907,\n        \"num_unique_values\": 558,\n        \"samples\": [\n          0.6392761297319334,\n          -0.6332685144765097,\n          0.08494823024837503\n        ],\n        \"semantic_type\": \"\",\n        \"description\": \"\"\n      }\n    },\n    {\n      \"column\": \"othdebt\",\n      \"properties\": {\n        \"dtype\": \"number\",\n        \"std\": 1.0008940547159089,\n        \"min\": -0.9185186271282512,\n        \"max\": 7.359294337655864,\n        \"num_unique_values\": 559,\n        \"samples\": [\n          0.05220190077049941,\n          -0.6755532438754684,\n          -0.2377385402702517\n        ],\n        \"semantic_type\": \"\",\n        \"description\": \"\"\n      }\n    }\n  ]\n}"
            }
          },
          "metadata": {},
          "execution_count": 18
        }
      ]
    },
    {
      "cell_type": "markdown",
      "source": [
        "Below, the scaled features are used with XGBoost to assess performance versus the non-scaled data above, but the f1-score is lower than with the non-scaled data.  We'll use the non-scaled training and test data above for hyperparameter tuning."
      ],
      "metadata": {
        "id": "85VIv9h3GdeJ"
      },
      "id": "85VIv9h3GdeJ"
    },
    {
      "cell_type": "code",
      "source": [
        "classifier_XG.fit(X_train_scaled, y_train)\n",
        "\n",
        "#Make prediction on the test data\n",
        "y_pred_using_scaled_data = classifier_XG.predict(X_test_scaled)\n",
        "\n",
        "#Evaluate the model\n",
        "accuracy_scaled = accuracy_score(y_test, y_pred_using_scaled_data)\n",
        "confusion_scaled = confusion_matrix(y_test, y_pred_using_scaled_data)\n",
        "classification_rep_scaled = classification_report(y_test, y_pred_using_scaled_data)\n",
        "\n",
        "#Print the results\n",
        "print(f\"Accuracy: {accuracy_scaled: .2f}\")\n",
        "print(\"Confusion Matrix:\")\n",
        "print(confusion_scaled)\n",
        "print(\"Classification Report:\")\n",
        "print(classification_rep_scaled) #precision is true positives divided the sum of true pos and false pos, recall is the ratio of true positives to the total actual positives,\n",
        "#f1-score is useful when you need a balance between precision and recall, #support is number of actual occurences in each class"
      ],
      "metadata": {
        "colab": {
          "base_uri": "https://localhost:8080/"
        },
        "id": "PpgtVg-_Gb_W",
        "outputId": "46f20dc0-a9c2-4241-eab6-98d10b0e3314"
      },
      "id": "PpgtVg-_Gb_W",
      "execution_count": 19,
      "outputs": [
        {
          "output_type": "stream",
          "name": "stdout",
          "text": [
            "Accuracy:  0.77\n",
            "Confusion Matrix:\n",
            "[[93  9]\n",
            " [23 15]]\n",
            "Classification Report:\n",
            "              precision    recall  f1-score   support\n",
            "\n",
            "           0       0.80      0.91      0.85       102\n",
            "           1       0.62      0.39      0.48        38\n",
            "\n",
            "    accuracy                           0.77       140\n",
            "   macro avg       0.71      0.65      0.67       140\n",
            "weighted avg       0.75      0.77      0.75       140\n",
            "\n"
          ]
        }
      ]
    },
    {
      "cell_type": "markdown",
      "source": [
        "**Hyperparameter Tuning:**\n",
        "\n"
      ],
      "metadata": {
        "id": "HMrNO0tNMi8n"
      },
      "id": "HMrNO0tNMi8n"
    },
    {
      "cell_type": "code",
      "source": [
        "from sklearn.model_selection import GridSearchCV\n",
        "\n",
        "# Define the parameter grid to search\n",
        "param_grid = {\n",
        "    # Number of trees used in the search\n",
        "    'n_estimators': [50, 100, 150, 200],\n",
        "\n",
        "    # Maximum depth of trees\n",
        "    'max_depth': [3, 5, 7, 9],\n",
        "\n",
        "    # Step size shrinkage (a lower learning rate means each tree has smaller impact on the overall model)\n",
        "    'learning_rate': [0.01, 0.1, 0.2],\n",
        "\n",
        "    # Fraction of samples used for fitting (0.6 means that for each tree, 60% of the data is randomly sampled and used for training while 20% is ignored for that particular tree's training)\n",
        "    'subsample': [0.6, 0.8, 1.0],\n",
        "\n",
        "    # Specifies the proportion of the total features that are randomly selected to build each tree. 0.8 mean 80% of the features are randomly selected to build each tree\n",
        "    'colsample_bytree': [0.6, 0.8, 1.0]  # Fraction of features used per tree\n",
        "}\n",
        "\n",
        "# Initialize the XGBClassifier\n",
        "classifier_XG = XGBClassifier(random_state=42)\n",
        "\n",
        "# Set up GridSearchCV\n",
        "grid_search = GridSearchCV(\n",
        "    estimator=classifier_XG,\n",
        "    param_grid=param_grid,\n",
        "    scoring='accuracy',  # Use 'accuracy' as the evaluation metric; this can be adjusted based on our needs\n",
        "    cv=5,  # Number of cross-validation folds\n",
        "    verbose=1,  # Display the progress of the grid search\n",
        "    n_jobs=-1  # Use all available cores for parallel processing\n",
        ")\n",
        "\n",
        "# Fit GridSearchCV\n",
        "grid_search.fit(X_train, y_train)\n",
        "\n",
        "# Print the best parameters and the corresponding score\n",
        "print(\"Best hyperparameters:\", grid_search.best_params_)\n",
        "print(\"Best accuracy score:\", grid_search.best_score_)\n",
        "\n",
        "# Use the best model for predictions\n",
        "best_model = grid_search.best_estimator_\n",
        "y_pred_using_best_model = best_model.predict(X_test)\n",
        "\n",
        "# Evaluate the best model\n",
        "accuracy_best_model = accuracy_score(y_test, y_pred_using_best_model)\n",
        "confusion_best_model = confusion_matrix(y_test, y_pred_using_best_model)\n",
        "classification_rep_best_model = classification_report(y_test, y_pred_using_best_model)\n",
        "\n",
        "print(f\"Accuracy of best model: {accuracy_best_model:.2f}\")\n",
        "print(\"Confusion Matrix of best model:\")\n",
        "print(confusion_best_model)\n",
        "print(\"Classification Report of best model:\")\n",
        "print(classification_rep_best_model)\n"
      ],
      "metadata": {
        "colab": {
          "base_uri": "https://localhost:8080/"
        },
        "id": "NLiWBKQqOxlB",
        "outputId": "77cb0111-eedf-4aa1-b792-8ce5850120e6"
      },
      "id": "NLiWBKQqOxlB",
      "execution_count": 14,
      "outputs": [
        {
          "output_type": "stream",
          "name": "stdout",
          "text": [
            "Fitting 5 folds for each of 432 candidates, totalling 2160 fits\n",
            "Best hyperparameters: {'colsample_bytree': 0.6, 'learning_rate': 0.2, 'max_depth': 9, 'n_estimators': 50, 'subsample': 0.8}\n",
            "Best accuracy score: 0.8035714285714286\n",
            "Accuracy of best model: 0.79\n",
            "Confusion Matrix of best model:\n",
            "[[95  7]\n",
            " [23 15]]\n",
            "Classification Report of best model:\n",
            "              precision    recall  f1-score   support\n",
            "\n",
            "           0       0.81      0.93      0.86       102\n",
            "           1       0.68      0.39      0.50        38\n",
            "\n",
            "    accuracy                           0.79       140\n",
            "   macro avg       0.74      0.66      0.68       140\n",
            "weighted avg       0.77      0.79      0.76       140\n",
            "\n"
          ]
        }
      ]
    },
    {
      "cell_type": "markdown",
      "source": [
        "**Performance Improvements**\n",
        "\n",
        "By applying grid search for hyperparameter tuning, we were able to achieve accuracy of 0.79 (versus 0.77 for the original XGBoost model).  All other performance metrics improved as well including the weighted avg f1-score which increased to 0.76 (versus 0.75 for the original XGBoost model).\n",
        "\n",
        "If we compare the confusion matrix for the two models, we see improvement in the new hypertuned model across all four regions.\n",
        "\n",
        "In the above grid search, we are using 'accuracy' as the evaluation metric but we could try different metrics, such as f1-score to further improve performance."
      ],
      "metadata": {
        "id": "9xtrmsRfP3T0"
      },
      "id": "9xtrmsRfP3T0"
    },
    {
      "cell_type": "markdown",
      "source": [
        "**Alternative Models and Interpretability**\n",
        "\n",
        "Although model performance has improved, 79% accuracy in predicting defaults may be considered inadequate from a risk management perspective and therefore, other models should be trained and tested.  Using a logistic regression model or hypertuning the Random Forest Classifier might be considered.\n",
        "\n",
        "In terms interpretability, XGBoost is less interpretable than models like logistic regression or decision trees, so this could be an issue if applied to our current use case.  Support Vector Machines and Neural Networks should be avoided because they are considered even less interpretable than XGBoost in most cases.\n",
        "\n",
        "One key difference between the Random Forest model and the XGBoost model is how the decision trees are constructed.  Random Forest builds each decision tree independently by using random subsets of the training data and then aggregating the results.  XGBoost builds the trees sequentially, attempting to correct the errors of the previous tree.\n"
      ],
      "metadata": {
        "id": "HM3Uh7Y7TyFQ"
      },
      "id": "HM3Uh7Y7TyFQ"
    },
    {
      "cell_type": "markdown",
      "source": [
        "**Model Performance Rankings**\n",
        "\n",
        "If we rank all three models used in this exercise, the scores are very similar:\n",
        "\n",
        "ACCURACY:\n",
        "*  XPBoost with Tuned Hyperparameters:  0.79\n",
        "*  Random Forest:  0.78\n",
        "*  XPBoost (initial):  0.77\n",
        "\n",
        "WEIGHTED AVG F1-SCORE:\n",
        "*  XPBoost with Tuned Hyperparameters:  0.76\n",
        "*  Random Forest:  0.76\n",
        "*  XPBoost (initial):  0.75"
      ],
      "metadata": {
        "id": "4mUN-QL5ilTN"
      },
      "id": "4mUN-QL5ilTN"
    },
    {
      "cell_type": "code",
      "source": [],
      "metadata": {
        "id": "SshgQ5dQimQR"
      },
      "id": "SshgQ5dQimQR",
      "execution_count": null,
      "outputs": []
    }
  ],
  "metadata": {
    "kernelspec": {
      "display_name": "Python 3 (ipykernel)",
      "language": "python",
      "name": "python3"
    },
    "language_info": {
      "codemirror_mode": {
        "name": "ipython",
        "version": 3
      },
      "file_extension": ".py",
      "mimetype": "text/x-python",
      "name": "python",
      "nbconvert_exporter": "python",
      "pygments_lexer": "ipython3",
      "version": "3.11.5"
    },
    "colab": {
      "provenance": [],
      "include_colab_link": true
    }
  },
  "nbformat": 4,
  "nbformat_minor": 5
}